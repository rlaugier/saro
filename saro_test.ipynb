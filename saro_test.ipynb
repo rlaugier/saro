{
 "cells": [
  {
   "cell_type": "markdown",
   "metadata": {},
   "source": [
    "# Testing SARO"
   ]
  },
  {
   "cell_type": "code",
   "execution_count": null,
   "metadata": {},
   "outputs": [],
   "source": [
    "import numpy as np\n",
    "import saro\n",
    "import xara\n",
    "import matplotlib.pyplot as plt\n",
    "\n",
    "from time import time\n",
    "from scipy.linalg import sqrtm\n",
    "import scipy.sparse as sparse"
   ]
  },
  {
   "cell_type": "markdown",
   "metadata": {},
   "source": [
    "## Creating the KPO structure from a pupil text file"
   ]
  },
  {
   "cell_type": "code",
   "execution_count": null,
   "metadata": {},
   "outputs": [],
   "source": [
    "thekpo = xara.KPO(\"test_data/pupil_model.txt\")\n",
    "a = thekpo.kpi.plot_pupil_and_uv(cmap=\"inferno\")\n",
    "plt.show(a)"
   ]
  },
  {
   "cell_type": "markdown",
   "metadata": {},
   "source": [
    "## Defining basic parameters for the analysis"
   ]
  },
  {
   "cell_type": "code",
   "execution_count": null,
   "metadata": {},
   "outputs": [],
   "source": [
    "wl = 1.6e-6\n",
    "m2pix = xara.mas2rad( 16.7 * 128 / wl)#pscale supposed 16.7\n",
    "thekpo.CWAVEL = wl"
   ]
  },
  {
   "cell_type": "markdown",
   "metadata": {},
   "source": [
    "## Importing the test case data"
   ]
  },
  {
   "cell_type": "code",
   "execution_count": null,
   "metadata": {},
   "outputs": [],
   "source": [
    "calibrator = np.load(\"test_data/calibrator.npy\")\n",
    "tarimage_single = np.load(\"test_data/tarimage_single.npy\")\n",
    "tarimage_series = np.load(\"test_data/tarimage_series.npy\")\n",
    "params_single = np.load(\"test_data/params_single.npy\")\n",
    "params_series = np.load(\"test_data/params_series.npy\")\n",
    "detpas = np.load(\"test_data/detpas.npy\")"
   ]
  },
  {
   "cell_type": "markdown",
   "metadata": {},
   "source": [
    "## Extracting the visibilities and kernel-phases"
   ]
  },
  {
   "cell_type": "code",
   "execution_count": null,
   "metadata": {},
   "outputs": [],
   "source": [
    "cviscal = thekpo.extract_cvis_from_img(calibrator, m2pix)\n",
    "kappacal = thekpo.kpi.KPM.dot(np.angle(cviscal))\n",
    "cvistar_single = thekpo.extract_cvis_from_img(tarimage_single, m2pix)\n",
    "kappasingle = thekpo.kpi.KPM.dot(np.angle(np.angle(cvistar_single)))\n",
    "cvistar_series = np.array([thekpo.extract_cvis_from_img(tarimage_series[i], m2pix) for i in range(detpas.shape[0])])\n",
    "kappa_series = thekpo.kpi.KPM.dot(cvistar_series.T).T.flatten()"
   ]
  },
  {
   "cell_type": "markdown",
   "metadata": {},
   "source": [
    "## Importing the covariance matrix\n",
    "There are several ways to build a covariance matrix for the data. None of them are perfect.\n",
    "\n",
    "Here the covariance was evaluated from a cube of 10k realizations of independent phase screen and shot noise on a calibrator. It should be very close to ideal."
   ]
  },
  {
   "cell_type": "code",
   "execution_count": null,
   "metadata": {},
   "outputs": [],
   "source": [
    "Sigma = np.load(\"test_data/covk_10000_250_50_2_apod_False.npy\")\n",
    "Sigmacal = Sigma.copy()\n",
    "assert Sigma.shape[0] == kappacal.shape[0]\n",
    "plt.figure(figsize=(10,10))\n",
    "plt.imshow(Sigma, cmap=\"inferno\")"
   ]
  },
  {
   "cell_type": "markdown",
   "metadata": {},
   "source": [
    "Note that this matrix is very much NOT diagonal, which shows that the kernel-phases, just like any Fourier plane observables, are heavily correlated. This is the reason we need to use the whitening transforms.\n",
    "\n",
    "Here, we need a whitening matrix for the calibrated data, so the matrix has to be adjusted!"
   ]
  },
  {
   "cell_type": "code",
   "execution_count": null,
   "metadata": {},
   "outputs": [],
   "source": [
    "W = sqrtm(np.linalg.inv(Sigma + Sigmacal))\n",
    "Sigmas = np.array([Sigma for i in range(detpas.shape[0])])\n",
    "Ws = sqrtm(np.linalg.inv(sparse.block_diag(Sigmas).toarray()))"
   ]
  },
  {
   "cell_type": "code",
   "execution_count": null,
   "metadata": {},
   "outputs": [],
   "source": []
  }
 ],
 "metadata": {
  "kernelspec": {
   "display_name": "Python 3",
   "language": "python",
   "name": "python3"
  },
  "language_info": {
   "codemirror_mode": {
    "name": "ipython",
    "version": 3
   },
   "file_extension": ".py",
   "mimetype": "text/x-python",
   "name": "python",
   "nbconvert_exporter": "python",
   "pygments_lexer": "ipython3",
   "version": "3.7.3"
  }
 },
 "nbformat": 4,
 "nbformat_minor": 4
}
